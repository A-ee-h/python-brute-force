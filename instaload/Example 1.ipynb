{
 "cells": [
  {
   "cell_type": "code",
   "execution_count": 2,
   "metadata": {},
   "outputs": [
    {
     "ename": "ModuleNotFoundError",
     "evalue": "No module named 'selenium'",
     "output_type": "error",
     "traceback": [
      "\u001b[0;31m---------------------------------------------------------------------------\u001b[0m",
      "\u001b[0;31mModuleNotFoundError\u001b[0m                       Traceback (most recent call last)",
      "\u001b[1;32m/workspaces/python-brute-force/instaload/Example 1.ipynb Cell 1\u001b[0m line \u001b[0;36m1\n\u001b[0;32m----> <a href='vscode-notebook-cell://codespaces%2Banimated-sniffle-g4v9597gx639x6r/workspaces/python-brute-force/instaload/Example%201.ipynb#W0sdnNjb2RlLXJlbW90ZQ%3D%3D?line=0'>1</a>\u001b[0m \u001b[39mfrom\u001b[39;00m \u001b[39minstaload\u001b[39;00m \u001b[39mimport\u001b[39;00m word_engine, Webdrive\n",
      "File \u001b[0;32m/workspaces/python-brute-force/instaload/instaload.py:1\u001b[0m\n\u001b[0;32m----> 1\u001b[0m \u001b[39mfrom\u001b[39;00m \u001b[39mselenium\u001b[39;00m \u001b[39mimport\u001b[39;00m webdriver\n\u001b[1;32m      2\u001b[0m \u001b[39mfrom\u001b[39;00m \u001b[39mselenium\u001b[39;00m\u001b[39m.\u001b[39;00m\u001b[39mwebdriver\u001b[39;00m\u001b[39m.\u001b[39;00m\u001b[39mcommon\u001b[39;00m\u001b[39m.\u001b[39;00m\u001b[39mkeys\u001b[39;00m \u001b[39mimport\u001b[39;00m Keys\n\u001b[1;32m      3\u001b[0m \u001b[39mfrom\u001b[39;00m \u001b[39mselenium\u001b[39;00m\u001b[39m.\u001b[39;00m\u001b[39mwebdriver\u001b[39;00m\u001b[39m.\u001b[39;00m\u001b[39mcommon\u001b[39;00m\u001b[39m.\u001b[39;00m\u001b[39mby\u001b[39;00m \u001b[39mimport\u001b[39;00m By \n",
      "\u001b[0;31mModuleNotFoundError\u001b[0m: No module named 'selenium'"
     ]
    }
   ],
   "source": [
    "from instaload import word_engine, Webdrive\n"
   ]
  },
  {
   "cell_type": "code",
   "execution_count": 5,
   "metadata": {},
   "outputs": [],
   "source": [
    "webb = Webdrive()\n",
    "wd = word_engine()"
   ]
  },
  {
   "cell_type": "code",
   "execution_count": 3,
   "metadata": {},
   "outputs": [],
   "source": [
    "pswd = 'a'*8"
   ]
  },
  {
   "cell_type": "code",
   "execution_count": 4,
   "metadata": {},
   "outputs": [
    {
     "ename": "NoSuchWindowException",
     "evalue": "Message: no such window: target window already closed\nfrom unknown error: web view not found\n  (Session info: chrome=118.0.5993.118)\nStacktrace:\n\tGetHandleVerifier [0x00534DE3+43907]\n\t(No symbol) [0x004C0741]\n\t(No symbol) [0x003B33ED]\n\t(No symbol) [0x0039A9F2]\n\t(No symbol) [0x004068CB]\n\t(No symbol) [0x00415103]\n\t(No symbol) [0x00402956]\n\t(No symbol) [0x003DE17E]\n\t(No symbol) [0x003DF32D]\n\tGetHandleVerifier [0x007E5AF9+2865305]\n\tGetHandleVerifier [0x0082E78B+3163435]\n\tGetHandleVerifier [0x00828441+3138017]\n\tGetHandleVerifier [0x005BE0F0+605840]\n\t(No symbol) [0x004CA64C]\n\t(No symbol) [0x004C6638]\n\t(No symbol) [0x004C675F]\n\t(No symbol) [0x004B8DB7]\n\tBaseThreadInitThunk [0x758C7BA9+25]\n\tRtlInitializeExceptionChain [0x7794BD2B+107]\n\tRtlClearBits [0x7794BCAF+191]\n",
     "output_type": "error",
     "traceback": [
      "\u001b[1;31m---------------------------------------------------------------------------\u001b[0m",
      "\u001b[1;31mNoSuchWindowException\u001b[0m                     Traceback (most recent call last)",
      "\u001b[1;32md:\\vscode\\hacks\\Hackpack\\instaload\\instaload.ipynb Cell 4\u001b[0m line \u001b[0;36m4\n\u001b[0;32m      <a href='vscode-notebook-cell:/d%3A/vscode/hacks/Hackpack/instaload/instaload.ipynb#W3sZmlsZQ%3D%3D?line=1'>2</a>\u001b[0m trail \u001b[39m=\u001b[39m \u001b[39m0\u001b[39m\n\u001b[0;32m      <a href='vscode-notebook-cell:/d%3A/vscode/hacks/Hackpack/instaload/instaload.ipynb#W3sZmlsZQ%3D%3D?line=2'>3</a>\u001b[0m \u001b[39mwhile\u001b[39;00m check:\n\u001b[1;32m----> <a href='vscode-notebook-cell:/d%3A/vscode/hacks/Hackpack/instaload/instaload.ipynb#W3sZmlsZQ%3D%3D?line=3'>4</a>\u001b[0m     check \u001b[39m=\u001b[39mwebb\u001b[39m.\u001b[39;49mlogin([\u001b[39m'\u001b[39;49m\u001b[39mmrdont615\u001b[39;49m\u001b[39m'\u001b[39;49m, pswd])\n\u001b[0;32m      <a href='vscode-notebook-cell:/d%3A/vscode/hacks/Hackpack/instaload/instaload.ipynb#W3sZmlsZQ%3D%3D?line=4'>5</a>\u001b[0m     trail \u001b[39m+\u001b[39m\u001b[39m=\u001b[39m \u001b[39m1\u001b[39m\n",
      "File \u001b[1;32md:\\vscode\\hacks\\Hackpack\\instaload\\instaload.py:84\u001b[0m, in \u001b[0;36mWebdrive.login\u001b[1;34m(self, payload)\u001b[0m\n\u001b[0;32m     70\u001b[0m \u001b[39mdef\u001b[39;00m \u001b[39mlogin\u001b[39m(\u001b[39mself\u001b[39m, payload):\n\u001b[0;32m     71\u001b[0m \u001b[39m    \u001b[39m\u001b[39m\"\"\"\u001b[39;00m\n\u001b[0;32m     72\u001b[0m \u001b[39m    Logs in the user with the given username and password\u001b[39;00m\n\u001b[0;32m     73\u001b[0m \n\u001b[1;32m   (...)\u001b[0m\n\u001b[0;32m     82\u001b[0m \u001b[39m        True if the user has successfully logged in, False otherwise\u001b[39;00m\n\u001b[0;32m     83\u001b[0m \u001b[39m    \"\"\"\u001b[39;00m\n\u001b[1;32m---> 84\u001b[0m     username \u001b[39m=\u001b[39m \u001b[39mself\u001b[39;49m\u001b[39m.\u001b[39;49mdriver\u001b[39m.\u001b[39;49mfind_element(By\u001b[39m.\u001b[39;49mXPATH, \u001b[39m'\u001b[39;49m\u001b[39m//*[@id=\u001b[39;49m\u001b[39m\"\u001b[39;49m\u001b[39mloginForm\u001b[39;49m\u001b[39m\"\u001b[39;49m\u001b[39m]/div/div[1]/div/label/input\u001b[39;49m\u001b[39m'\u001b[39;49m)\n\u001b[0;32m     85\u001b[0m     username\u001b[39m.\u001b[39msend_keys(Keys\u001b[39m.\u001b[39mCONTROL \u001b[39m+\u001b[39m \u001b[39m\"\u001b[39m\u001b[39ma\u001b[39m\u001b[39m\"\u001b[39m)\n\u001b[0;32m     86\u001b[0m     username\u001b[39m.\u001b[39msend_keys(payload[\u001b[39m0\u001b[39m])\n",
      "File \u001b[1;32mc:\\Users\\ajees\\AppData\\Local\\Programs\\Python\\Python311\\Lib\\site-packages\\selenium\\webdriver\\remote\\webdriver.py:738\u001b[0m, in \u001b[0;36mWebDriver.find_element\u001b[1;34m(self, by, value)\u001b[0m\n\u001b[0;32m    735\u001b[0m     by \u001b[39m=\u001b[39m By\u001b[39m.\u001b[39mCSS_SELECTOR\n\u001b[0;32m    736\u001b[0m     value \u001b[39m=\u001b[39m \u001b[39mf\u001b[39m\u001b[39m'\u001b[39m\u001b[39m[name=\u001b[39m\u001b[39m\"\u001b[39m\u001b[39m{\u001b[39;00mvalue\u001b[39m}\u001b[39;00m\u001b[39m\"\u001b[39m\u001b[39m]\u001b[39m\u001b[39m'\u001b[39m\n\u001b[1;32m--> 738\u001b[0m \u001b[39mreturn\u001b[39;00m \u001b[39mself\u001b[39;49m\u001b[39m.\u001b[39;49mexecute(Command\u001b[39m.\u001b[39;49mFIND_ELEMENT, {\u001b[39m\"\u001b[39;49m\u001b[39musing\u001b[39;49m\u001b[39m\"\u001b[39;49m: by, \u001b[39m\"\u001b[39;49m\u001b[39mvalue\u001b[39;49m\u001b[39m\"\u001b[39;49m: value})[\u001b[39m\"\u001b[39m\u001b[39mvalue\u001b[39m\u001b[39m\"\u001b[39m]\n",
      "File \u001b[1;32mc:\\Users\\ajees\\AppData\\Local\\Programs\\Python\\Python311\\Lib\\site-packages\\selenium\\webdriver\\remote\\webdriver.py:344\u001b[0m, in \u001b[0;36mWebDriver.execute\u001b[1;34m(self, driver_command, params)\u001b[0m\n\u001b[0;32m    342\u001b[0m response \u001b[39m=\u001b[39m \u001b[39mself\u001b[39m\u001b[39m.\u001b[39mcommand_executor\u001b[39m.\u001b[39mexecute(driver_command, params)\n\u001b[0;32m    343\u001b[0m \u001b[39mif\u001b[39;00m response:\n\u001b[1;32m--> 344\u001b[0m     \u001b[39mself\u001b[39;49m\u001b[39m.\u001b[39;49merror_handler\u001b[39m.\u001b[39;49mcheck_response(response)\n\u001b[0;32m    345\u001b[0m     response[\u001b[39m\"\u001b[39m\u001b[39mvalue\u001b[39m\u001b[39m\"\u001b[39m] \u001b[39m=\u001b[39m \u001b[39mself\u001b[39m\u001b[39m.\u001b[39m_unwrap_value(response\u001b[39m.\u001b[39mget(\u001b[39m\"\u001b[39m\u001b[39mvalue\u001b[39m\u001b[39m\"\u001b[39m, \u001b[39mNone\u001b[39;00m))\n\u001b[0;32m    346\u001b[0m     \u001b[39mreturn\u001b[39;00m response\n",
      "File \u001b[1;32mc:\\Users\\ajees\\AppData\\Local\\Programs\\Python\\Python311\\Lib\\site-packages\\selenium\\webdriver\\remote\\errorhandler.py:229\u001b[0m, in \u001b[0;36mErrorHandler.check_response\u001b[1;34m(self, response)\u001b[0m\n\u001b[0;32m    227\u001b[0m         alert_text \u001b[39m=\u001b[39m value[\u001b[39m\"\u001b[39m\u001b[39malert\u001b[39m\u001b[39m\"\u001b[39m]\u001b[39m.\u001b[39mget(\u001b[39m\"\u001b[39m\u001b[39mtext\u001b[39m\u001b[39m\"\u001b[39m)\n\u001b[0;32m    228\u001b[0m     \u001b[39mraise\u001b[39;00m exception_class(message, screen, stacktrace, alert_text)  \u001b[39m# type: ignore[call-arg]  # mypy is not smart enough here\u001b[39;00m\n\u001b[1;32m--> 229\u001b[0m \u001b[39mraise\u001b[39;00m exception_class(message, screen, stacktrace)\n",
      "\u001b[1;31mNoSuchWindowException\u001b[0m: Message: no such window: target window already closed\nfrom unknown error: web view not found\n  (Session info: chrome=118.0.5993.118)\nStacktrace:\n\tGetHandleVerifier [0x00534DE3+43907]\n\t(No symbol) [0x004C0741]\n\t(No symbol) [0x003B33ED]\n\t(No symbol) [0x0039A9F2]\n\t(No symbol) [0x004068CB]\n\t(No symbol) [0x00415103]\n\t(No symbol) [0x00402956]\n\t(No symbol) [0x003DE17E]\n\t(No symbol) [0x003DF32D]\n\tGetHandleVerifier [0x007E5AF9+2865305]\n\tGetHandleVerifier [0x0082E78B+3163435]\n\tGetHandleVerifier [0x00828441+3138017]\n\tGetHandleVerifier [0x005BE0F0+605840]\n\t(No symbol) [0x004CA64C]\n\t(No symbol) [0x004C6638]\n\t(No symbol) [0x004C675F]\n\t(No symbol) [0x004B8DB7]\n\tBaseThreadInitThunk [0x758C7BA9+25]\n\tRtlInitializeExceptionChain [0x7794BD2B+107]\n\tRtlClearBits [0x7794BCAF+191]\n"
     ]
    }
   ],
   "source": [
    "check = True    \n",
    "trail = 0\n",
    "while check:\n",
    "    check =webb.login(['mrdont', pswd])\n",
    "    trail += 1\n",
    " "
   ]
  },
  {
   "cell_type": "code",
   "execution_count": null,
   "metadata": {},
   "outputs": [],
   "source": [
    "trail"
   ]
  }
 ],
 "metadata": {
  "kernelspec": {
   "display_name": "Python 3",
   "language": "python",
   "name": "python3"
  },
  "language_info": {
   "codemirror_mode": {
    "name": "ipython",
    "version": 3
   },
   "file_extension": ".py",
   "mimetype": "text/x-python",
   "name": "python",
   "nbconvert_exporter": "python",
   "pygments_lexer": "ipython3",
   "version": "3.10.8"
  }
 },
 "nbformat": 4,
 "nbformat_minor": 2
}
